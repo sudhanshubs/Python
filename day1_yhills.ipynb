{
 "cells": [
  {
   "cell_type": "code",
   "execution_count": 1,
   "id": "5308ffee",
   "metadata": {},
   "outputs": [
    {
     "name": "stdout",
     "output_type": "stream",
     "text": [
      "Hello World\n"
     ]
    }
   ],
   "source": [
    "print(\"Hello World\")"
   ]
  },
  {
   "cell_type": "code",
   "execution_count": 2,
   "id": "1609b554",
   "metadata": {},
   "outputs": [
    {
     "name": "stdout",
     "output_type": "stream",
     "text": [
      "Sudhanshu B S\n"
     ]
    }
   ],
   "source": [
    "print(\"Sudhanshu B S\")"
   ]
  },
  {
   "cell_type": "markdown",
   "id": "c15d9084",
   "metadata": {},
   "source": [
    "### It should be written as print not Print"
   ]
  },
  {
   "cell_type": "markdown",
   "id": "1614f98d",
   "metadata": {},
   "source": [
    "#### It should be written as print not Print"
   ]
  },
  {
   "cell_type": "markdown",
   "id": "286869e6",
   "metadata": {},
   "source": [
    "##### It should be written as print not Print"
   ]
  },
  {
   "cell_type": "markdown",
   "id": "6dcc2331",
   "metadata": {},
   "source": [
    "## It should be written as print not Print"
   ]
  },
  {
   "cell_type": "code",
   "execution_count": 5,
   "id": "a9d2f4ea",
   "metadata": {},
   "outputs": [
    {
     "name": "stdout",
     "output_type": "stream",
     "text": [
      "Welcome to the Analytics Course\n"
     ]
    }
   ],
   "source": [
    "print(\"Welcome to the Analytics Course\")"
   ]
  },
  {
   "cell_type": "markdown",
   "id": "d38996c0",
   "metadata": {},
   "source": [
    "# Data Types"
   ]
  },
  {
   "cell_type": "code",
   "execution_count": 6,
   "id": "56f67df5",
   "metadata": {},
   "outputs": [
    {
     "data": {
      "text/plain": [
       "int"
      ]
     },
     "execution_count": 6,
     "metadata": {},
     "output_type": "execute_result"
    }
   ],
   "source": [
    "x=100\n",
    "type(x)"
   ]
  },
  {
   "cell_type": "code",
   "execution_count": 7,
   "id": "9409353e",
   "metadata": {},
   "outputs": [
    {
     "data": {
      "text/plain": [
       "str"
      ]
     },
     "execution_count": 7,
     "metadata": {},
     "output_type": "execute_result"
    }
   ],
   "source": [
    "course=\"Analytics\"\n",
    "type(course)"
   ]
  },
  {
   "cell_type": "code",
   "execution_count": 8,
   "id": "3f12015b",
   "metadata": {},
   "outputs": [
    {
     "data": {
      "text/plain": [
       "bool"
      ]
     },
     "execution_count": 8,
     "metadata": {},
     "output_type": "execute_result"
    }
   ],
   "source": [
    "z=True\n",
    "type(z)"
   ]
  },
  {
   "cell_type": "markdown",
   "id": "04e81427",
   "metadata": {},
   "source": [
    "##### 1.No decimal point-Integer\n",
    "##### 2.Decimal point-float\n",
    "##### 3.Text-String(and it should be in inverted comma)\n",
    "##### 4.True/Flase - Bool"
   ]
  },
  {
   "cell_type": "markdown",
   "id": "07d42055",
   "metadata": {},
   "source": [
    "### Rules for naming the varibles"
   ]
  },
  {
   "cell_type": "markdown",
   "id": "990ed9b2",
   "metadata": {},
   "source": [
    "##### 1.Variable name should start qith alphabets or underscore\n",
    "##### 2.Variable name should not start with a number\n",
    "##### 3.Space is not allowed\n",
    "##### 4.Only underscore special character is allowed\n",
    "##### 5.Case sensitive"
   ]
  }
 ],
 "metadata": {
  "kernelspec": {
   "display_name": "Python 3 (ipykernel)",
   "language": "python",
   "name": "python3"
  },
  "language_info": {
   "codemirror_mode": {
    "name": "ipython",
    "version": 3
   },
   "file_extension": ".py",
   "mimetype": "text/x-python",
   "name": "python",
   "nbconvert_exporter": "python",
   "pygments_lexer": "ipython3",
   "version": "3.9.7"
  }
 },
 "nbformat": 4,
 "nbformat_minor": 5
}
